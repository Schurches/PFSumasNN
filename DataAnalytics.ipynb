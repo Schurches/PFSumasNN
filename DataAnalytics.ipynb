{
 "cells": [
  {
   "cell_type": "code",
   "execution_count": 6,
   "metadata": {},
   "outputs": [
    {
     "name": "stderr",
     "output_type": "stream",
     "text": [
      "C:\\Users\\Steven\\Anaconda3\\lib\\site-packages\\scipy\\stats\\stats.py:1713: FutureWarning: Using a non-tuple sequence for multidimensional indexing is deprecated; use `arr[tuple(seq)]` instead of `arr[seq]`. In the future this will be interpreted as an array index, `arr[np.array(seq)]`, which will result either in an error or a different result.\n",
      "  return np.add.reduce(sorted[indexer] * weights, axis=axis) / sumval\n"
     ]
    },
    {
     "data": {
      "text/plain": [
       "<matplotlib.axes._subplots.AxesSubplot at 0x1bfd5052cf8>"
      ]
     },
     "execution_count": 6,
     "metadata": {},
     "output_type": "execute_result"
    },
    {
     "data": {
      "image/png": "[encoded data removed]",
      "text/plain": [
       "<matplotlib.figure.Figure at 0x1bfd5148518>"
      ]
     },
     "metadata": {
      "needs_background": "light"
     },
     "output_type": "display_data"
    }
   ],
   "source": [
    "#Data analysis of our dataset\n",
    "\n",
    "import numpy as np\n",
    "import matplotlib.pyplot as plt\n",
    "import pandas as pd\n",
    "import seaborn as sns\n",
    "from sklearn import preprocessing;\n",
    "from sklearn.model_selection import train_test_split\n",
    "from sklearn.linear_model import LinearRegression\n",
    "#Keras library\n",
    "from keras.models import Sequential\n",
    "from keras.layers import Dense\n",
    "# Feature Scaling\n",
    "from sklearn.preprocessing import StandardScaler\n",
    "from sklearn.metrics import confusion_matrix\n",
    "from sklearn.metrics import mean_squared_error\n",
    "from math import sqrt\n",
    "# Allows charts to appear in the notebook\n",
    "%matplotlib inline\n",
    "\n",
    "# Pickle package\n",
    "import pickle\n",
    "\n",
    "#rms = sqrt(mean_squared_error(Y_test,y_pred1))\n",
    "\n",
    "def isAnswerCorrect(df):\n",
    "    df['respuesta'] = df['respuesta'].apply(str)\n",
    "    isCorrect = (df['respuesta'] == df['respuestaJ']);\n",
    "    return 1*isCorrect;\n",
    "\n",
    "def dropDataFromTables(df):\n",
    "    df.drop(labels=['id','escuela','problema','tipo','respuesta','respuestaJ'])\n",
    "\n",
    "\n",
    "#Reading the data\n",
    "hartfortDF = pd.read_csv('datasets/datos_hartford_marzo.csv');\n",
    "isCorrectColumn = isAnswerCorrect(hartfortDF);\n",
    "hartfortDF['isCorrect'] = isCorrectColumn;\n",
    "hartfortDF = hartfortDF.drop(labels=['id','escuela','problema','respuesta','respuestaJ','tipo'],axis=1)\n",
    "hartfortDF = hartfortDF.loc[lambda x: x.edad > 4]\n",
    "\n",
    "#plotting variables\n",
    "\n",
    "sns.distplot(hartfortDF['edad'])"
   ]
  },
  {
   "cell_type": "code",
   "execution_count": 18,
   "metadata": {},
   "outputs": [
    {
     "name": "stdout",
     "output_type": "stream",
     "text": [
      "              edad  loID  tiempo  userID  isCorrect\n",
      "grado genero                                       \n",
      "1     0         21    21      21      21         21\n",
      "      1         10    10      10      10         10\n",
      "2     0         15    15      15      15         15\n",
      "      1         18    18      18      18         18\n",
      "3     0         14    14      14      14         14\n",
      "      1          8     8       8       8          8\n",
      "4     0          7     7       7       7          7\n",
      "      1         12    12      12      12         12\n",
      "5     0          6     6       6       6          6\n",
      "      1          4     4       4       4          4\n",
      "                        edad     tiempo  isCorrect\n",
      "grado genero loID                                 \n",
      "1     0      0      5.952381  18.171642   0.790476\n",
      "             1      5.952381  12.177747   0.761905\n",
      "             2      5.952381  18.557174   0.552381\n",
      "             3      5.952381  12.806424   0.476190\n",
      "             4      5.952381  11.699379   0.352381\n",
      "      1      0      6.000000  14.382723   0.720000\n",
      "             1      6.000000  12.389367   0.680000\n",
      "             2      6.000000  21.105402   0.420000\n",
      "             3      6.000000  11.169168   0.380000\n",
      "             4      6.000000  11.550370   0.280000\n",
      "2     0      0      7.000000  10.003175   0.946667\n",
      "             1      7.000000   8.220809   0.920000\n",
      "             2      7.000000  12.154516   0.800000\n",
      "             3      7.000000  12.081147   0.720000\n",
      "             4      7.000000  16.000613   0.426667\n",
      "      1      0      7.222222  12.520226   0.944444\n",
      "             1      7.222222  12.434569   0.944444\n",
      "             2      7.222222  24.091816   0.844444\n",
      "             3      7.222222  28.049617   0.811111\n",
      "             4      7.222222  29.542919   0.188889\n",
      "3     0      0      8.142857   7.862923   0.957143\n",
      "             1      8.142857   4.844180   0.985714\n",
      "             2      8.142857   9.237693   0.900000\n",
      "             3      8.142857   8.483791   0.885714\n",
      "             4      8.142857  19.019879   0.557143\n",
      "      1      0      8.000000   8.905379   0.900000\n",
      "             1      8.000000   6.528386   1.000000\n",
      "             2      8.000000  14.059439   0.875000\n",
      "             3      8.000000  19.242471   0.825000\n",
      "             4      8.000000  17.071906   0.625000\n",
      "4     0      0      9.142857   8.442629   0.942857\n",
      "             1      9.142857   4.144338   0.971429\n",
      "             2      9.142857   9.010466   0.914286\n",
      "             3      9.142857  10.852818   0.885714\n",
      "             4      9.142857  14.851976   0.542857\n",
      "      1      0      9.250000   6.776711   0.983333\n",
      "             1      9.250000   4.644775   0.983333\n",
      "             2      9.250000   7.898374   0.966667\n",
      "             3      9.250000   8.638463   0.916667\n",
      "             4      9.250000  20.696819   0.766667\n",
      "5     0      0     10.166667   3.959208   0.966667\n",
      "             1     10.166667   2.649163   1.000000\n",
      "             2     10.166667   4.246116   1.000000\n",
      "             3     10.166667   5.138122   1.000000\n",
      "             4     10.166667  11.231516   0.733333\n",
      "      1      0     10.500000   4.240412   1.000000\n",
      "             1     10.500000   2.520512   1.000000\n",
      "             2     10.500000   6.150076   0.850000\n",
      "             3     10.500000   5.690400   1.000000\n",
      "             4     10.500000   8.628921   0.700000\n"
     ]
    }
   ],
   "source": [
    "hartfortDF = hartfortDF.loc[lambda x: x.edad > 4]\n",
    "uncompleteData = hartfortDF.groupby(['userID']).count().loc[lambda x: x.edad < 25]\n",
    "hartfortDF = hartfortDF.loc[lambda x: x.userID != '-LaQlc1fC7y-HDX9BHFG']\n",
    "print(hartfortDF.groupby(['grado','genero']).count()/25)\n",
    "print(hartfortDF.groupby(['grado','genero','loID']).mean())"
   ]
  },
  {
   "cell_type": "code",
   "execution_count": 5,
   "metadata": {},
   "outputs": [
    {
     "name": "stdout",
     "output_type": "stream",
     "text": [
      "                           tiempo  isCorrect\n",
      "grado genero edad loID                      \n",
      "1     0      5    0     33.859548   0.900000\n",
      "                  1     26.719324   1.000000\n",
      "                  2     41.636476   0.200000\n",
      "                  3     16.985896   0.500000\n",
      "                  4     22.915047   0.100000\n",
      "             6    0     15.661619   0.788889\n",
      "                  1     10.816484   0.722222\n",
      "                  2     15.753016   0.577778\n",
      "                  3     11.985297   0.500000\n",
      "                  4     10.705989   0.355556\n",
      "             7    0     31.976236   0.600000\n",
      "                  1      7.597342   1.000000\n",
      "                  2     22.873405   0.800000\n",
      "                  3     19.227757   0.000000\n",
      "                  4      7.149064   0.800000\n",
      "      1      6    0     14.382723   0.720000\n",
      "                  1     12.389367   0.680000\n",
      "                  2     21.105402   0.420000\n",
      "                  3     11.169168   0.380000\n",
      "                  4     11.550370   0.280000\n",
      "2     0      6    0      7.525354   1.000000\n",
      "                  1     11.574190   1.000000\n",
      "                  2     12.133855   1.000000\n",
      "                  3     15.950360   1.000000\n",
      "                  4     18.999662   0.600000\n",
      "             7    0     10.280982   0.928571\n",
      "                  1      8.187571   0.914286\n",
      "                  2     12.395714   0.785714\n",
      "                  3     11.828094   0.657143\n",
      "                  4     15.597047   0.415385\n",
      "...                           ...        ...\n",
      "4     1      9    0      6.730742   0.977778\n",
      "                  1      4.648318   0.977778\n",
      "                  2      7.545190   0.977778\n",
      "                  3      8.120699   1.000000\n",
      "                  4     24.375144   0.888889\n",
      "             10   0      6.914620   1.000000\n",
      "                  1      4.634144   1.000000\n",
      "                  2      8.957923   0.933333\n",
      "                  3     10.191756   0.666667\n",
      "                  4      9.661844   0.400000\n",
      "5     0      10   0      3.911987   0.960000\n",
      "                  1      2.582697   1.000000\n",
      "                  2      4.242347   1.000000\n",
      "                  3      5.501269   1.000000\n",
      "                  4     10.983573   0.720000\n",
      "             11   0      4.195309   1.000000\n",
      "                  1      2.981493   1.000000\n",
      "                  2      4.264960   1.000000\n",
      "                  3      3.322384   1.000000\n",
      "                  4     12.471231   0.800000\n",
      "      1      10   0      5.024939   1.000000\n",
      "                  1      2.814652   1.000000\n",
      "                  2      6.582378   0.800000\n",
      "                  3      6.578020   1.000000\n",
      "                  4      8.574148   0.600000\n",
      "             11   0      3.455886   1.000000\n",
      "                  1      2.226372   1.000000\n",
      "                  2      5.717775   0.900000\n",
      "                  3      4.802780   1.000000\n",
      "                  4      8.683695   0.800000\n",
      "\n",
      "[105 rows x 2 columns]\n"
     ]
    }
   ],
   "source": []
  }
 ],
 "metadata": {
  "kernelspec": {
   "display_name": "Python 3",
   "language": "python",
   "name": "python3"
  },
  "language_info": {
   "codemirror_mode": {
    "name": "ipython",
    "version": 3
   },
   "file_extension": ".py",
   "mimetype": "text/x-python",
   "name": "python",
   "nbconvert_exporter": "python",
   "pygments_lexer": "ipython3",
   "version": "3.6.6"
  }
 },
 "nbformat": 4,
 "nbformat_minor": 2
}
